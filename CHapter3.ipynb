{
 "cells": [
  {
   "cell_type": "markdown",
   "metadata": {},
   "source": [
    "## 3-3 報酬とエピソード終了"
   ]
  },
  {
   "cell_type": "markdown",
   "metadata": {},
   "source": [
    "### 現在の累積報酬を取得\n",
    "\n",
    "* `GetCumulativeReward()` 現在のステップの累積報酬を取得する.すなわちエピソード開始から現在のステップまでの報酬の合計値を返す.\n",
    "* 現在のステップ数を取得するには`StepCount`プロパティを参照する。\n",
    "\n",
    "### 報酬設定のポイント\n",
    "- エピソード結果に対して報酬を与える方が、良い学習につながる。\n",
    "    - ゲームの勝敗に対して報酬を与える\n",
    "- 1エピソード内の報酬の合計値の範囲は「-1.0～1.0」の範囲が望ましい\n",
    "    - 過度に大きい報酬は学習効率を落とす\n",
    "- 報酬設計は、プラスの報酬を与える事を基準に実装する。\n",
    "    - マイナスの報酬が大きいと、良い行動を選択しなくなる可能性がある。\n"
   ]
  },
  {
   "cell_type": "markdown",
   "metadata": {},
   "source": [
    "### エピソード完了とは\n",
    "\n",
    "* `EndEpisode()`：エピソード完了を終了する関数。コード内で任意にエピソードを完了させることができる。\n",
    "* `MAx Step`：Agentスクリプトのオブジェクトは、Unity内で最大ステップ数を指定する。これを超えるとエピソードが終了する。\n",
    "    * 0に指定すると無制限になる。\n",
    "\n",
    "### エピソード終了のポイント\n",
    "- なるべく少ないステップ数でエピソードを終了させる\n",
    "    - エピソード終了までのステップ数が多い環境は、学習効率が悪くなる。\n",
    "- `EndEpisode()`が一度もコールされない可能性がある場合は必ず`Max Step`を指定する。\n",
    "    - エピソード終了がなければ学習が進まない。"
   ]
  },
  {
   "cell_type": "markdown",
   "metadata": {},
   "source": [
    "## 3-4 決定\n",
    "\n",
    "決定とは、強化学習の学習サイクル1回分のことを指す。ML-Agentsでは決定が要求されたタイミングで、強化学習サイクル１回分の学習を行う。\n",
    "1. 環境の観測\n",
    "    - CollectObservations()\n",
    "2. 行動決定\n",
    "3. 行動実行＋報酬の付与\n",
    "    - onActionReceived()\n",
    "4. ポリシー更新\n",
    "\n",
    "決定を要求しないステップでは、強化学習サイクルは実行されない。Unity側のパラメータ設定で、行動実行と報酬の獲得を行うことは可能。\n",
    "* Take Actions Between Actions : 有効にすると、最後に決定した行動を繰り返す。\n",
    "\n",
    "* `RequestDecision()`Agentクラスないのコードで任意に決定を要求することができる。\n",
    "\n"
   ]
  },
  {
   "cell_type": "markdown",
   "metadata": {},
   "source": [
    "## 3-5 学習設定ファイル\n",
    "\n",
    "* 区別\n",
    "    * trainer_type の区分け\n",
    "    * ppo : Proximal Policy Optimization\n",
    "    * sac : Soft Actor Critic\n",
    "    * poca : MA-POCA , MultiAgent POsthumours Credit Assignment\n",
    "\n",
    "\n",
    "\n"
   ]
  }
 ],
 "metadata": {
  "language_info": {
   "name": "python"
  },
  "orig_nbformat": 4
 },
 "nbformat": 4,
 "nbformat_minor": 2
}
